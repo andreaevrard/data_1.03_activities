{
 "cells": [
  {
   "cell_type": "markdown",
   "id": "70d82d57-6249-4791-86da-461f3ffa912b",
   "metadata": {
    "tags": []
   },
   "source": [
    "# 1.03 Activity 1\n",
    "\n",
    "Refer to the folder `files_for_activities` for this exercise. **You can continue using the same jupyter notebook that you craeted in class (where you worked on file1 and file2). Please save your work (jupyter notebook) as we will build on the same activities later.**\n",
    "\n",
    "1. Load data (`file3.xlsx` and `file4.xlsx`) in a new Jupyter notebook. You might face the error saying that optional dependency _xlrd_ is missing. In that case, they should install it using `pip`. If you don't get the error, move to the next step. :smile:\n",
    "2. Print data columns for both files.\n",
    "3. Check the names and order of columns in the files, and compare them with the \"data\" DataFrame created in class.\n",
    "4. Change the names of required columns in the new dataframes read before concatenating the files with data.\n",
    "5. Change data columns from uppercase to lowercase.\n",
    "\n",
    "\n",
    "_We will merge the dataframes in the next exercise_"
   ]
  },
  {
   "cell_type": "code",
   "execution_count": null,
   "id": "79dc211a-465b-4960-9832-cfff0d4e7662",
   "metadata": {},
   "outputs": [],
   "source": []
  }
 ],
 "metadata": {
  "kernelspec": {
   "display_name": "Python 3 (ipykernel)",
   "language": "python",
   "name": "python3"
  },
  "language_info": {
   "codemirror_mode": {
    "name": "ipython",
    "version": 3
   },
   "file_extension": ".py",
   "mimetype": "text/x-python",
   "name": "python",
   "nbconvert_exporter": "python",
   "pygments_lexer": "ipython3",
   "version": "3.9.12"
  }
 },
 "nbformat": 4,
 "nbformat_minor": 5
}
